{
  "nbformat": 4,
  "nbformat_minor": 0,
  "metadata": {
    "colab": {
      "name": "RealtimeObjectdetection.ipynb",
      "version": "0.3.2",
      "provenance": [],
      "include_colab_link": true
    },
    "kernelspec": {
      "name": "python3",
      "display_name": "Python 3"
    }
  },
  "cells": [
    {
      "cell_type": "markdown",
      "metadata": {
        "id": "view-in-github",
        "colab_type": "text"
      },
      "source": [
        "<a href=\"https://colab.research.google.com/github/magesh73/MyRESTAPI/blob/master/RealtimeObjectdetection.ipynb\" target=\"_parent\"><img src=\"https://colab.research.google.com/assets/colab-badge.svg\" alt=\"Open In Colab\"/></a>"
      ]
    },
    {
      "metadata": {
        "id": "5msSjTpSTqFe",
        "colab_type": "code",
        "colab": {}
      },
      "cell_type": "code",
      "source": [
        "!pip install opencv-python\n",
        "!pip install tensorflow\n",
        "!pip install numpy\n",
        "!pip install scipy\n",
        "!pip install pillow\n",
        "!pip install matplotlib\n",
        "!pip install h5py\n",
        "!pip install keras\n"
      ],
      "execution_count": 0,
      "outputs": []
    },
    {
      "metadata": {
        "id": "BbDvZbi-m-dR",
        "colab_type": "code",
        "colab": {}
      },
      "cell_type": "code",
      "source": [
        "from google.colab import drive\n",
        "drive.mount('/content/drive')"
      ],
      "execution_count": 0,
      "outputs": []
    },
    {
      "metadata": {
        "id": "8tel3Nl-efXt",
        "colab_type": "code",
        "colab": {}
      },
      "cell_type": "code",
      "source": [
        "! pip3 install https://github.com/OlafenwaMoses/ImageAI/releases/download/2.0.2/imageai-2.0.2-py3-none-any.whl"
      ],
      "execution_count": 0,
      "outputs": []
    },
    {
      "metadata": {
        "id": "sb2weAVDe5Zu",
        "colab_type": "code",
        "colab": {
          "base_uri": "https://localhost:8080/",
          "height": 68
        },
        "outputId": "194a4604-5801-4860-bba0-527e68b88a45"
      },
      "cell_type": "code",
      "source": [
        "\n",
        "from imageai.Detection import ObjectDetection\n",
        "import os\n",
        "\n",
        "execution_path = os.getcwd()\n",
        "print( os.path.join(execution_path , \"resnet50_coco_best_v2.0.1.h5\"))\n",
        "detector = ObjectDetection()\n",
        "detector.setModelTypeAsRetinaNet()\n",
        "detector.setModelPath('/content/drive/My Drive/resnet50_coco_best_v2.0.1.h5')\n",
        "detector.loadModel()\n",
        "detections = detector.detectObjectsFromImage(input_image=\"/content/060.JPG\", output_image_path=\"/content/imagenew.jpg\")\n",
        "#detections = detector.detectObjectsFromImage(input_image=os.path.join(execution_path , \"image.jpg\"), output_image_path=os.path.join(execution_path , \"imagenew.jpg\"))\n",
        "for eachObject in detections:\n",
        "    print(eachObject[\"name\"] , \" : \" , eachObject[\"percentage_probability\"] )\n",
        "    \n",
        "    \n",
        "    "
      ],
      "execution_count": 15,
      "outputs": [
        {
          "output_type": "stream",
          "text": [
            "/content/resnet50_coco_best_v2.0.1.h5\n",
            "person  :  66.35916829109192\n",
            "person  :  97.42932319641113\n"
          ],
          "name": "stdout"
        }
      ]
    }
  ]
}